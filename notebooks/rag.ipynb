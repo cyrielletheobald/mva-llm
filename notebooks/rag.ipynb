{
 "cells": [
  {
   "cell_type": "code",
   "execution_count": 1,
   "metadata": {},
   "outputs": [],
   "source": [
    "import sys\n",
    "sys.path.append('../')"
   ]
  },
  {
   "cell_type": "code",
   "execution_count": 2,
   "metadata": {},
   "outputs": [],
   "source": [
    "%load_ext autoreload\n",
    "%autoreload 2"
   ]
  },
  {
   "cell_type": "markdown",
   "metadata": {},
   "source": [
    "# Imports"
   ]
  },
  {
   "cell_type": "code",
   "execution_count": 3,
   "metadata": {},
   "outputs": [
    {
     "name": "stdout",
     "output_type": "stream",
     "text": [
      "cpu\n"
     ]
    }
   ],
   "source": [
    "import os\n",
    "import torch\n",
    "from langchain.document_loaders import PyMuPDFLoader\n",
    "from langchain.vectorstores import Chroma\n",
    "from langchain.text_splitter import RecursiveCharacterTextSplitter\n",
    "from langchain_huggingface import HuggingFaceEmbeddings\n",
    "device=\"cuda\" if torch.cuda.is_available() else \"cpu\"\n",
    "print(device)"
   ]
  },
  {
   "cell_type": "code",
   "execution_count": 9,
   "metadata": {},
   "outputs": [
    {
     "name": "stdout",
     "output_type": "stream",
     "text": [
      "Chargement de la base Chroma existante...\n",
      "Base Chroma prête à être utilisée\n"
     ]
    }
   ],
   "source": [
    "PATH_PROJECT = \"C:/Users/victo/Documents/LLM/mva-llm-project/\" \n",
    "CHROMA_PERSIST_DIR = os.path.join(PATH_PROJECT, \"data/chroma_db/\")\n",
    "\n",
    "if not os.path.exists(CHROMA_PERSIST_DIR) or not os.listdir(CHROMA_PERSIST_DIR):\n",
    "    print(\"🆕 Création de la base Chroma et indexation des documents...\")\n",
    "\n",
    "    # Charger les fichiers PDF\n",
    "    data_dir = os.path.join(PATH_PROJECT, \"data/\")\n",
    "    documents = []\n",
    "\n",
    "    for file in os.listdir(data_dir):\n",
    "        if file.endswith(\".pdf\"):\n",
    "            pdf_path = os.path.join(data_dir, file)\n",
    "            pdf_loader = PyMuPDFLoader(pdf_path)\n",
    "            documents.extend(pdf_loader.load())\n",
    "\n",
    "    # Diviser les documents en chunks\n",
    "    text_splitter = RecursiveCharacterTextSplitter(chunk_size=500, chunk_overlap=50)\n",
    "    docs = text_splitter.split_documents(documents)\n",
    "\n",
    "    embedding_model = HuggingFaceEmbeddings(model_name=\"all-MiniLM-L6-v2\",\n",
    "                                       model_kwargs={'device': device}, encode_kwargs={'device': device})\n",
    "\n",
    "    # Initialiser Chroma avec les embeddings \n",
    "    vectorstore = Chroma.from_documents(docs, embedding_model, persist_directory=CHROMA_PERSIST_DIR)\n",
    "    vectorstore.persist()\n",
    "    print(\"Base Chroma sauvegardée avec succès\")\n",
    "\n",
    "else:\n",
    "    print(\"Chargement de la base Chroma existante...\")\n",
    "    embedding_model = HuggingFaceEmbeddings(model_name=\"all-MiniLM-L6-v2\",\n",
    "                                       model_kwargs={'device': device}, encode_kwargs={'device': device})\n",
    "    vectorstore = Chroma(persist_directory=CHROMA_PERSIST_DIR, embedding_function=embedding_model)\n",
    "\n",
    "print(\"Base Chroma prête à être utilisée\")"
   ]
  },
  {
   "cell_type": "code",
   "execution_count": 6,
   "metadata": {},
   "outputs": [
    {
     "name": "stdout",
     "output_type": "stream",
     "text": [
      "259\n",
      "Mood disorders\n",
      "•\t Depressive symptoms include depressed mood or markedly diminished interest or \n",
      "pleasure in activities.\n",
      "•\t There are multiple anxiety symptoms, which may include feeling nervous, anxious or on \n",
      "edge, not being able to control worrying thoughts, fear that something awful will happen, \n",
      "having trouble relaxing, muscle tension or sympathetic autonomic symptoms.\n",
      "•\t Neither the depressive nor the anxiety symptoms – considered separately – are sufficiently\n",
      "guilt, anger, denial, blame, difficulty accepting the death, feeling one has lost a part of one’s self, \n",
      "inability to experience positive mood, emotional numbness, difficulty in engaging with social or \n",
      "other activities). Some common symptoms of prolonged grief disorder are similar to those observed \n",
      "in a depressive episode (e.g. sadness, loss of interest in activities, social withdrawal, feelings of guilt,\n",
      "•\t The symptoms include:\n",
      "•\t at least one affective symptom such as mood lability, irritability, depressed mood or \n",
      "anxiety;\n",
      "•\t additional somatic or cognitive symptoms such as lethargy, joint pain, overeating, \n",
      "hypersomnia, breast tenderness, swelling of extremities, concentration difficulties or \n",
      "forgetfulness.\n",
      "•\t The symptoms are not better accounted for by another mental disorder (e.g. a mood \n",
      "disorder, an anxiety or fear-related disorder).\n",
      "6A7Z\n",
      "GA34.41\n"
     ]
    }
   ],
   "source": [
    "query = \"What are the symptoms of depression ?\"\n",
    "retrieved_docs = vectorstore.similarity_search(query, k=3)\n",
    "\n",
    "for doc in retrieved_docs:\n",
    "    print(doc.page_content)  # Afficher les documents les plus pertinents"
   ]
  },
  {
   "cell_type": "code",
   "execution_count": null,
   "metadata": {},
   "outputs": [
    {
     "name": "stdout",
     "output_type": "stream",
     "text": [
      " Depression symptoms include depressed mood or markedly diminished interest or pleasure in activities, feelings of guilt or worthlessness, fatigue or loss of energy, difficulty concentrating, changes in appetite or sleep, and recurrent thoughts of death or suicide. Additionally, there may be somatic or cognitive symptoms such as lethargy, joint pain, overeating, hypersomnia, breast tenderness, swelling of extremities, concentration difficulties or forgetfulness. It's important to note that these symptoms can vary in severity and may not always be present for every individual experiencing depression. If you or someone else is struggling with these symptoms, it's essential to seek help from a healthcare professional.\n"
     ]
    }
   ],
   "source": [
    "import ollama\n",
    "\n",
    "context = \"\\n\\n\".join([doc.page_content for doc in retrieved_docs])\n",
    "prompt = f\"Contexte:\\n{context}\\n\\nQuestion: {query}\\nRéponse:\"\n",
    "\n",
    "response = ollama.chat(model=\"mistral\", messages=[{\"role\": \"user\", \"content\": prompt}])\n",
    "print(response['message'].content)"
   ]
  }
 ],
 "metadata": {
  "kernelspec": {
   "display_name": "project_env",
   "language": "python",
   "name": "python3"
  },
  "language_info": {
   "codemirror_mode": {
    "name": "ipython",
    "version": 3
   },
   "file_extension": ".py",
   "mimetype": "text/x-python",
   "name": "python",
   "nbconvert_exporter": "python",
   "pygments_lexer": "ipython3",
   "version": "3.12.9"
  }
 },
 "nbformat": 4,
 "nbformat_minor": 2
}
