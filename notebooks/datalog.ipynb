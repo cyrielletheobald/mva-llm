{
 "cells": [
  {
   "cell_type": "markdown",
   "metadata": {},
   "source": [
    "### Converting the dataset.xlsx into datalog facts"
   ]
  },
  {
   "cell_type": "code",
   "execution_count": 4,
   "metadata": {},
   "outputs": [
    {
     "name": "stdout",
     "output_type": "stream",
     "text": [
      "Les fichiers 'Observed.facts' et 'History.facts' existent déjà.\n"
     ]
    }
   ],
   "source": [
    "import pyDatalog\n",
    "import pandas as pd\n",
    "import os\n",
    "\n",
    "# Données Patients\n",
    "patients_df = pd.read_excel(\"../data/dataset.xlsx\", sheet_name=\"data\")\n",
    "\n",
    "# Création des fichiers Observed.facts et History.facts s'ils n'existent pas\n",
    "observed_file_path = \"../data/Observed.facts\"\n",
    "history_file_path = \"../data/History.facts\"\n",
    "\n",
    "if not os.path.exists(observed_file_path) and not os.path.exists(history_file_path):\n",
    "    with open(observed_file_path, \"w\") as observed_file, open(history_file_path, \"w\") as history_file:\n",
    "        for _, row in patients_df.iterrows():\n",
    "            patient_id = row[\"PatientID\"]\n",
    "            \n",
    "            # Écrire dans le fichier Observed.facts si le symptôme observé est présent\n",
    "            if pd.notna(row[\"Observed_Symptom\"]):\n",
    "                observed_file.write(f'\"{patient_id}\" \"{row[\"Observed_Symptom\"]}\" {row[\"Observed_Week\"]}\\n')\n",
    "            \n",
    "            # Écrire dans le fichier History.facts si la condition historique est présente\n",
    "            if pd.notna(row[\"History_Condition\"]):\n",
    "                history_file.write(f'\"{patient_id}\" \"{row[\"History_Condition\"]}\" {row[\"History_Count\"]}\\n')\n",
    "else:\n",
    "    print(\"Les fichiers 'Observed.facts' et 'History.facts' existent déjà.\")"
   ]
  },
  {
   "cell_type": "code",
   "execution_count": null,
   "metadata": {},
   "outputs": [],
   "source": []
  }
 ],
 "metadata": {
  "kernelspec": {
   "display_name": "Python 3",
   "language": "python",
   "name": "python3"
  },
  "language_info": {
   "codemirror_mode": {
    "name": "ipython",
    "version": 3
   },
   "file_extension": ".py",
   "mimetype": "text/x-python",
   "name": "python",
   "nbconvert_exporter": "python",
   "pygments_lexer": "ipython3",
   "version": "3.12.0"
  }
 },
 "nbformat": 4,
 "nbformat_minor": 2
}
