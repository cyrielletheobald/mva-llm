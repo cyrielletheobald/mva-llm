{
 "cells": [
  {
   "cell_type": "code",
   "execution_count": 1,
   "metadata": {},
   "outputs": [],
   "source": [
    "import sys\n",
    "sys.path.append('../')"
   ]
  },
  {
   "cell_type": "code",
   "execution_count": 2,
   "metadata": {},
   "outputs": [],
   "source": [
    "%load_ext autoreload\n",
    "%autoreload 2"
   ]
  },
  {
   "cell_type": "markdown",
   "metadata": {},
   "source": [
    "# RAG"
   ]
  },
  {
   "cell_type": "code",
   "execution_count": 3,
   "metadata": {},
   "outputs": [
    {
     "name": "stdout",
     "output_type": "stream",
     "text": [
      "cpu\n"
     ]
    }
   ],
   "source": [
    "import os\n",
    "import torch\n",
    "from langchain.document_loaders import PyMuPDFLoader\n",
    "from langchain.vectorstores import Chroma\n",
    "from langchain.text_splitter import RecursiveCharacterTextSplitter\n",
    "from langchain_huggingface import HuggingFaceEmbeddings\n",
    "device=\"cuda\" if torch.cuda.is_available() else \"cpu\"\n",
    "print(device)"
   ]
  },
  {
   "cell_type": "code",
   "execution_count": null,
   "metadata": {},
   "outputs": [
    {
     "name": "stdout",
     "output_type": "stream",
     "text": [
      "Chargement de la base Chroma existante...\n",
      "Base Chroma prête à être utilisée\n"
     ]
    }
   ],
   "source": [
    "from src.config import PATH_PROJECT\n",
    "CHROMA_PERSIST_DIR = os.path.join(PATH_PROJECT, \"data/chroma_db/\")\n",
    "\n",
    "if not os.path.exists(CHROMA_PERSIST_DIR) or not os.listdir(CHROMA_PERSIST_DIR):\n",
    "    print(\"🆕 Création de la base Chroma et indexation des documents...\")\n",
    "\n",
    "    # Charger les fichiers PDF\n",
    "    data_dir = os.path.join(PATH_PROJECT, \"data/\")\n",
    "    documents = []\n",
    "\n",
    "    for file in os.listdir(data_dir):\n",
    "        if file.endswith(\".pdf\"):\n",
    "            pdf_path = os.path.join(data_dir, file)\n",
    "            pdf_loader = PyMuPDFLoader(pdf_path)\n",
    "            documents.extend(pdf_loader.load())\n",
    "\n",
    "    # Diviser les documents en chunks\n",
    "    text_splitter = RecursiveCharacterTextSplitter(chunk_size=500, chunk_overlap=50)\n",
    "    docs = text_splitter.split_documents(documents)\n",
    "\n",
    "    embedding_model = HuggingFaceEmbeddings(model_name=\"all-MiniLM-L6-v2\",\n",
    "                                       model_kwargs={'device': device}, encode_kwargs={'device': device})\n",
    "\n",
    "    # Initialiser Chroma avec les embeddings \n",
    "    vectorstore = Chroma.from_documents(docs, embedding_model, persist_directory=CHROMA_PERSIST_DIR)\n",
    "    vectorstore.persist()\n",
    "    print(\"Base Chroma sauvegardée avec succès\")\n",
    "\n",
    "else:\n",
    "    print(\"Chargement de la base Chroma existante...\")\n",
    "    embedding_model = HuggingFaceEmbeddings(model_name=\"all-MiniLM-L6-v2\",\n",
    "                                       model_kwargs={'device': device}, encode_kwargs={'device': device})\n",
    "    vectorstore = Chroma(persist_directory=CHROMA_PERSIST_DIR, embedding_function=embedding_model)\n",
    "\n",
    "print(\"Base Chroma prête à être utilisée\")"
   ]
  },
  {
   "cell_type": "code",
   "execution_count": 6,
   "metadata": {},
   "outputs": [
    {
     "name": "stdout",
     "output_type": "stream",
     "text": [
      "259\n",
      "Mood disorders\n",
      "•\t Depressive symptoms include depressed mood or markedly diminished interest or \n",
      "pleasure in activities.\n",
      "•\t There are multiple anxiety symptoms, which may include feeling nervous, anxious or on \n",
      "edge, not being able to control worrying thoughts, fear that something awful will happen, \n",
      "having trouble relaxing, muscle tension or sympathetic autonomic symptoms.\n",
      "•\t Neither the depressive nor the anxiety symptoms – considered separately – are sufficiently\n",
      "guilt, anger, denial, blame, difficulty accepting the death, feeling one has lost a part of one’s self, \n",
      "inability to experience positive mood, emotional numbness, difficulty in engaging with social or \n",
      "other activities). Some common symptoms of prolonged grief disorder are similar to those observed \n",
      "in a depressive episode (e.g. sadness, loss of interest in activities, social withdrawal, feelings of guilt,\n",
      "•\t The symptoms include:\n",
      "•\t at least one affective symptom such as mood lability, irritability, depressed mood or \n",
      "anxiety;\n",
      "•\t additional somatic or cognitive symptoms such as lethargy, joint pain, overeating, \n",
      "hypersomnia, breast tenderness, swelling of extremities, concentration difficulties or \n",
      "forgetfulness.\n",
      "•\t The symptoms are not better accounted for by another mental disorder (e.g. a mood \n",
      "disorder, an anxiety or fear-related disorder).\n",
      "6A7Z\n",
      "GA34.41\n"
     ]
    }
   ],
   "source": [
    "query = \"What are the symptoms of depression ?\"\n",
    "retrieved_docs = vectorstore.similarity_search(query, k=3)\n",
    "\n",
    "for doc in retrieved_docs:\n",
    "    print(doc.page_content)  # Afficher les documents les plus pertinents"
   ]
  },
  {
   "cell_type": "code",
   "execution_count": null,
   "metadata": {},
   "outputs": [
    {
     "name": "stdout",
     "output_type": "stream",
     "text": [
      " Depression symptoms include depressed mood or markedly diminished interest or pleasure in activities, feelings of guilt or worthlessness, fatigue or loss of energy, difficulty concentrating, changes in appetite or sleep, and recurrent thoughts of death or suicide. Additionally, there may be somatic or cognitive symptoms such as lethargy, joint pain, overeating, hypersomnia, breast tenderness, swelling of extremities, concentration difficulties or forgetfulness. It's important to note that these symptoms can vary in severity and may not always be present for every individual experiencing depression. If you or someone else is struggling with these symptoms, it's essential to seek help from a healthcare professional.\n"
     ]
    }
   ],
   "source": [
    "import ollama\n",
    "\n",
    "context = \"\\n\\n\".join([doc.page_content for doc in retrieved_docs])\n",
    "prompt = f\"Contexte:\\n{context}\\n\\nQuestion: {query}\\nRéponse:\"\n",
    "\n",
    "response = ollama.chat(model=\"mistral\", messages=[{\"role\": \"user\", \"content\": prompt}])\n",
    "print(response['message'].content)"
   ]
  },
  {
   "cell_type": "markdown",
   "metadata": {},
   "source": [
    "# LLM only approach"
   ]
  },
  {
   "cell_type": "code",
   "execution_count": 3,
   "metadata": {},
   "outputs": [],
   "source": [
    "from src.inference import get_answer"
   ]
  },
  {
   "cell_type": "code",
   "execution_count": null,
   "metadata": {},
   "outputs": [
    {
     "data": {
      "text/plain": [
       "' The patient meets the criteria for SEED (Single Episodic Episode Depression). They have a history of one depressive episode and no history of manic, mixed or hypomanic episodes, indicating that they do not have Bipolar Disorder Type 1 or 2.'"
      ]
     },
     "execution_count": 19,
     "metadata": {},
     "output_type": "execute_result"
    }
   ],
   "source": [
    "get_answer(patient_id=10, model='mistral')"
   ]
  },
  {
   "cell_type": "code",
   "execution_count": 20,
   "metadata": {},
   "outputs": [
    {
     "data": {
      "text/plain": [
       "\"<think>\\nOkay, so I need to figure out the diagnosis for this patient based on their observed symptoms and history. Let me start by looking at what's given.\\n\\nThe Observed symptoms are:\\n- Depressed mood for 1.5 weeks.\\n- Reduced concentration for 1.2 weeks.\\n- Reduced energy for 0.8 weeks.\\n- Increased talkativeness for 0.6 weeks.\\n\\nThe History shows that depressive and hypomanic episodes have each happened once.\\n\\nFirst, I should recall the diagnostic criteria for each disorder mentioned: BPD1, BPD2, SEED, and RDD.\\n\\nBPD1 requires a history of at least one manic or mixed episode. Here, the patient has a hypomanic episode in their history but no manic or mixed episodes observed now. Since they don't have a current manic or mixed episode, does that disqualify them? I think so because the history needs to include at least one manic or mixed, and if this is the only hypomanic, it might not meet BPD1.\\n\\nBPD2 requires a history of at least one hypomanic and one depressive episode. The patient has both in their history once each, but do they need more than one? No, I think one each is sufficient for diagnosis. So BPD2 is possible.\\n\\nSEED requires the presence or history of one depressive episode without any manic, mixed, or hypomanic episodes. Here, there's a history of depressive and hypomanic, which means SEED isn't applicable because they've had a hypomanic episode, ruling it out.\\n\\nRDD needs at least two depressive episodes separated by several months without significant mood disturbance in between. The patient only has one depressive episode noted, so RDD doesn't apply either.\\n\\nSo, putting this together: BPD2 is the correct diagnosis since they have both a history of hypomanic and depressive episodes. They currently don't meet BPD1 because there's no current manic or mixed episode, but their history satisfies BPD2.\\n</think>\\n\\nBased on the analysis of the observed symptoms and historical data:\\n\\n**Diagnosis:** Bipolar Disorder Type II (BPD2)\\n\\nThis diagnosis is made as the patient has a documented history of both hypomanic and depressive episodes. The presence of these episodes aligns with the diagnostic criteria for BPD2, which requires at least one hypomanic and one depressive episode in history.\""
      ]
     },
     "execution_count": 20,
     "metadata": {},
     "output_type": "execute_result"
    }
   ],
   "source": [
    "get_answer(patient_id=1, model='deepseek-r1:8b')"
   ]
  },
  {
   "cell_type": "code",
   "execution_count": null,
   "metadata": {},
   "outputs": [],
   "source": [
    "for i in range(2, 11):\n",
    "    print(f\"patient {i}\", get_answer(patient_id=i, model='deepseek-r1:8b'))"
   ]
  }
 ],
 "metadata": {
  "kernelspec": {
   "display_name": "project_env",
   "language": "python",
   "name": "python3"
  },
  "language_info": {
   "codemirror_mode": {
    "name": "ipython",
    "version": 3
   },
   "file_extension": ".py",
   "mimetype": "text/x-python",
   "name": "python",
   "nbconvert_exporter": "python",
   "pygments_lexer": "ipython3",
   "version": "3.12.9"
  }
 },
 "nbformat": 4,
 "nbformat_minor": 2
}
